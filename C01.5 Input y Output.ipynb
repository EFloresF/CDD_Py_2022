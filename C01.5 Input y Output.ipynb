{
 "cells": [
  {
   "cell_type": "markdown",
   "metadata": {},
   "source": [
    "<img src=\"logo.png\">"
   ]
  },
  {
   "cell_type": "markdown",
   "metadata": {},
   "source": [
    "# Input-Output\n",
    "\n",
    "En esta sección explicaremos cómo leer y escribir archivos\n",
    "\n",
    "Utilizaremos el paquete os.\n",
    "\n",
    "``import os``"
   ]
  },
  {
   "cell_type": "markdown",
   "metadata": {},
   "source": [
    "## Creación de carpetas\n",
    "\n",
    "Podemos creer carpetas con *os.makedirs()*\n",
    "\n",
    "``os.makedirs(\"RUTA DONDE SE CREARÁ LA CARPETA/NOMBRE DE LA CARPETA\", exist_ok = True)``\n",
    "\n",
    "El parámetro ``exist_ok`` acepta booleanos como argumento. Si es ``True`` creará una carpeta sin importarle si existe o no (cuidado con eso). Si es ``False`` no permitirá crearla si ya existe una con ese nombre.\n",
    "\n"
   ]
  },
  {
   "cell_type": "markdown",
   "metadata": {},
   "source": [
    "Con la función *os.listdir()* podemos ver qué hay en alguna carpeta.\n",
    "\n",
    "``os.listdir(\"RUTA Y NOMBRE DE LA CARPETA\")``"
   ]
  },
  {
   "cell_type": "markdown",
   "metadata": {},
   "source": [
    "## Leer y escribir archivos\n",
    "\n",
    "Podemos usar open para abrir archivos. Si el archivo no existe, dará un error.\n",
    "\n",
    "``archivo_inexistente = open(\"RUTA DONDE ESCRIBIREMOS EL ARCHIVO/NOMBRE DEL ARCHICO A ABRIR.EXTENSIÓN\")``\n",
    "\n",
    "Por ejemplo, \n",
    "\n",
    "``archivo_inexistente = open(\"C:/Users/hp master/Documents/SciData/Py_CDD/usuarios.txt\")`` \n",
    "\n",
    "nos dará un error si el archivo *usuarios.txt* no existe en la dirección *C:/Users/hp master/Documents/SciData/Py_CDD/*\n",
    "\n"
   ]
  },
  {
   "cell_type": "markdown",
   "metadata": {},
   "source": [
    "Si queremos crear un archivo para escribir, debemos especificar argumento \"w\"\n",
    "\n",
    "``archivo_para_escribir = open(\"RUTA DONDE ESCRIBIREMOS EL ARCHIVO/NOMBRE DEL ARCHICO A ABRIR.EXTENSIÓN\",\"w\")``\n",
    "\n",
    "Por ejemplo, \n",
    "\n",
    "``archivo_para_escribir = open(\"C:/Users/hp master/Documents/SciData/Py_CDD/usuarios.txt\", \"w\")`` \n",
    "\n",
    "creará el archivo *usuarios.txt* si no existe en la dirección *C:/Users/hp master/Documents/SciData/Py_CDD/*\n",
    "\n",
    "**REGlA GENERAL: siempre mantén cerrado en el ordenador cualquier archivo que esté siendo ocupado\n",
    "por Python** \n",
    "\n"
   ]
  },
  {
   "cell_type": "markdown",
   "metadata": {},
   "source": [
    "Para escribir en él usamos el método write.\n",
    "\n",
    "``archivo_para_escribir.write(\"hola mundo.\")``\n",
    "``archivo_para_escribir.write(\"¿Cómo están todos?\")``\n",
    "\n",
    "Y no se escribe nada hasta que lo cerremos.\n",
    "\n",
    "``archivo_para_escribir.close()``\n",
    "\n"
   ]
  },
  {
   "cell_type": "markdown",
   "metadata": {},
   "source": [
    "Si usamos el argumento \"w\", reescribiremos el archivo\n",
    "\n",
    "``archivo_para_escribir = open(\"C:/Users/hp master/Documents/SciData/Py_CDD/usuarios.txt\",\"w\")``\n",
    "\n",
    "``archivo_para_escribir.write(\"Bienvenidos a CDD_Py de SciData.\")``\n",
    "\n",
    "``archivo_para_escribir.close()``\n",
    "\n"
   ]
  },
  {
   "cell_type": "markdown",
   "metadata": {},
   "source": [
    "Podemos usar el método \"a\" para escribir sin borrar el original\n",
    "\n",
    "``archivo_para_escribir = open(\"C:/Users/hp master/Documents/SciData/Py_CDD/usuarios.txt\",\"a\")\n",
    "archivo_para_escribir.write(\"\\nEsperamos que les guste el curso.\")\n",
    "archivo_para_escribir.close()``\n",
    "\n"
   ]
  },
  {
   "cell_type": "markdown",
   "metadata": {},
   "source": [
    "Usar el método de open-close no es ideal, pues si ocurre un error entre los dos estados podemos perder \n",
    "o dañar el archivo original.\n",
    "\n",
    "La manera más recomendable es usando \"with\"\n",
    "\n",
    "\n",
    "``guerreros_z = [\"Gokú\",\"Vegueta\",\"Krilin\",\"Yamcha\",\"Ten Chin Han\",\"Pikoro\",\"Gohan\"]``\n",
    "\n",
    "``with open(\"C:/Users/hp master/Documents/SciData/Py_CDD/usuarios.txt\",\"w\") as archivo_para_escribir:\n",
    "    for guerrero in guerreros_z:\n",
    "        archivo_para_escribir.write(f\"{guerrero} \")``\n",
    "        \n",
    "\n"
   ]
  },
  {
   "cell_type": "markdown",
   "metadata": {},
   "source": [
    "Si quisieramos escribir cada elemento en un renglón diferente solo añadimos el \\n\n",
    "\n",
    "``with open(\"C:/Users/hp master/Documents/SciData/Py_CDD/usuarios.txt\",\"w\") as archivo_para_escribir:\n",
    "    for guerrero in guerreros_z:\n",
    "        archivo_para_escribir.write(f\"{guerrero}\\n\")``\n",
    "        \n"
   ]
  },
  {
   "cell_type": "markdown",
   "metadata": {},
   "source": [
    "## LECTURA\n",
    "\n",
    "También podemos leer archivos muy fácilmente.\n",
    "\n",
    "``with open(\"C:/Users/hp master/Documents/SciData/Py_CDD/usuarios.txt\") as archivo_para_leer:\n",
    "    datos = archivo_para_leer.read()``\n",
    "    \n",
    "``print(datos)``\n",
    "\n",
    "``type(datos)`` \n",
    "       \n"
   ]
  },
  {
   "cell_type": "markdown",
   "metadata": {},
   "source": [
    "Si queremos leer cada línea del archivo por separado, usamos el método readlines(), que va leyendo de forma iterativa (y consume menos memoria)\n",
    "\n",
    "``cada_linea = []``\n",
    "        \n",
    "``with open(\"C:/Users/hp master/Documents/SciData/Py_CDD/usuarios.txt\") as archivo_para_leer:\n",
    "    lineas = archivo_para_leer.readlines()\n",
    "    for linea in lineas:\n",
    "        cada_linea.append(linea.strip(\"\\n\"))``\n",
    "        \n",
    "``print(lineas)\n",
    "print(cada_linea)\n",
    "type(lineas)\n",
    "type(cada_linea)``"
   ]
  },
  {
   "cell_type": "markdown",
   "metadata": {},
   "source": [
    "## Escritura de tablas csv a partir de un diccionario.\n",
    "\n",
    "Los archivos csv son una forma de almacenar datos con cada columna separada por una coma.\n",
    "\n",
    "Por ejemplo, tomemos el diccionario\n",
    "\n",
    "``{\"nombre\":[\"Antonio\",\"Miguel\",\"Julian\",\"Andres\"],\"edad\":[45,40,22,34],\"ciudad\":[\"Ciudad de México\",\"Puebla\",\"Mexicali\",\"Aguascalientes\"]}``\n",
    "\n",
    "Dicho diccionario en csv se vería como\n",
    "\n",
    "nombre,edad,ciudad\n",
    "\n",
    "Antonio,45,Ciudad de México\n",
    "\n",
    "Miguel,40,Puebla\n",
    "\n",
    "Julián,22,Mexicali\n",
    "\n",
    "Andrés,34,Aguascalientes"
   ]
  },
  {
   "cell_type": "markdown",
   "metadata": {},
   "source": [
    "En Python, es posible escribir archivos csv a partir de diccionarios:\n",
    "\n",
    "``datos = {\"nombre\":[\"Antonio\",\"Miguel\",\"Julian\",\"Andres\"],\n",
    "         \"edad\":[\"45\",\"40\",\"22\",\"34\"],\n",
    "         \"ciudad\":[\"Ciudad de México\",\"Puebla\",\"Mexicali\",\"Aguascalientes\"]\n",
    "         }``\n",
    "\n",
    "``claves = list(datos.keys())\n",
    "n_items = len(datos[claves[0]])``\n",
    "\n",
    "``with open(\"C:/Users/hp master/Documents/SciData/Py_CDD/DiccionarioACSV.csv\", \"w\") as nombre_archivo:\n",
    "    nombre_archivo.write(','.join(claves)+\"\\n\")\n",
    "    for i in range(n_items):\n",
    "        fila = \",\".join([str(datos[clave][i]) for clave in claves])\n",
    "        nombre_archivo.write(fila+\"\\n\")``"
   ]
  }
 ],
 "metadata": {
  "kernelspec": {
   "display_name": "Python 3",
   "language": "python",
   "name": "python3"
  },
  "language_info": {
   "codemirror_mode": {
    "name": "ipython",
    "version": 3
   },
   "file_extension": ".py",
   "mimetype": "text/x-python",
   "name": "python",
   "nbconvert_exporter": "python",
   "pygments_lexer": "ipython3",
   "version": "3.7.7"
  }
 },
 "nbformat": 4,
 "nbformat_minor": 4
}

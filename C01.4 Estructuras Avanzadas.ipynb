{
 "cells": [
  {
   "cell_type": "markdown",
   "metadata": {},
   "source": [
    "<img src=\"logo.png\">"
   ]
  },
  {
   "cell_type": "markdown",
   "metadata": {},
   "source": [
    "# Estructuras avanzadas\n",
    "\n",
    "Ya anteriormente hemos visto las estructuras básicas listas, tuplas y diccionarios. En esta sección estudiaremos otras que suelen ser de utilidad: sets, counters y defaultdict"
   ]
  },
  {
   "cell_type": "markdown",
   "metadata": {},
   "source": [
    "## Sets\n",
    "\n",
    "Los sets, como su nombre lo indica, son conjuntos de elementos donde no hay repeticiones. Sus elementos deben ser de tipo inmutable. Su sintaxis es \n",
    "\n",
    "```{<valor 1>, <valor 2>, ..., <valor n>}```\n",
    "\n",
    "La función ```set()``` a la cual se le ingresa un objeto iterable convierte dicho objeto a tipo set.\n",
    "\n",
    "```set(<objeto iterable>)```"
   ]
  },
  {
   "cell_type": "code",
   "execution_count": null,
   "metadata": {},
   "outputs": [],
   "source": [
    "grupo_amigos1 = set([\"Manuel\",\"Rodrigo\",\"Miguel\",\"Jesús\",\"Hugo\"])\n",
    "grupo_amigos2 = {\"Manuel\",\"Alejandro\",\"Fernando\",\"Antonio\",\"Luis\"}"
   ]
  },
  {
   "cell_type": "code",
   "execution_count": null,
   "metadata": {},
   "outputs": [],
   "source": [
    "print(type(grupo_amigos1)) \n",
    "print(type(grupo_amigos2))"
   ]
  },
  {
   "cell_type": "markdown",
   "metadata": {},
   "source": [
    "Podemos evaluar la pertenencia de un elemento a un set"
   ]
  },
  {
   "cell_type": "code",
   "execution_count": null,
   "metadata": {},
   "outputs": [],
   "source": [
    "\"Manuel\" in grupo_amigos1"
   ]
  },
  {
   "cell_type": "code",
   "execution_count": null,
   "metadata": {},
   "outputs": [],
   "source": [
    "\"Rodrigo\" in grupo_amigos2"
   ]
  },
  {
   "cell_type": "markdown",
   "metadata": {},
   "source": [
    "### Operaciones entre sets\n",
    "\n",
    "Como los sets son conjuntos, Python tiene toda una serie de operaciones usuales entre ellos."
   ]
  },
  {
   "cell_type": "code",
   "execution_count": null,
   "metadata": {},
   "outputs": [],
   "source": [
    "# Unión de conjuntos: set1.union(set2)\n",
    "\n",
    "grupo_amigos1.union(grupo_amigos2)"
   ]
  },
  {
   "cell_type": "code",
   "execution_count": null,
   "metadata": {},
   "outputs": [],
   "source": [
    "# Observar que este método no cambia al set como tal\n",
    "grupo_amigos1"
   ]
  },
  {
   "cell_type": "code",
   "execution_count": null,
   "metadata": {},
   "outputs": [],
   "source": [
    "# Intersección de conjuntos: set1.intersection(set2)\n",
    "\n",
    "grupo_amigos1.intersection(grupo_amigos2)"
   ]
  },
  {
   "cell_type": "code",
   "execution_count": null,
   "metadata": {},
   "outputs": [],
   "source": [
    "# Diferencia de conjuntos: set1.difference(set2) o bien set1-set2\n",
    "\n",
    "diferencia1 = grupo_amigos1.difference(grupo_amigos2)\n",
    "diferencia2 = grupo_amigos1 - grupo_amigos2"
   ]
  },
  {
   "cell_type": "code",
   "execution_count": null,
   "metadata": {},
   "outputs": [],
   "source": [
    "print(diferencia1)\n",
    "print(diferencia1)"
   ]
  },
  {
   "cell_type": "code",
   "execution_count": null,
   "metadata": {},
   "outputs": [],
   "source": [
    "# Diferencia simétrica: set1.symmetric_difference(set2)\n",
    "\n",
    "grupo_amigos1.symmetric_difference(grupo_amigos2)"
   ]
  },
  {
   "cell_type": "markdown",
   "metadata": {},
   "source": [
    "#### Reemplazos\n",
    "\n",
    "Las cuatro operaciones anteriores tienen, cada una, versiones para reemplazar. Es decir, si *operación* es alguna de ellas, entonces existe una versión *operacion_update* que reemplaza al objeto sobre el que se manda a llamar con el objeto obtenido.\n",
    "\n",
    "|Operación|reemplazo|\n",
    "|--|--|\n",
    "|set1.union(set2)|set1.update(set2)|\n",
    "|set1.intersection(set2)|set1.intersection_update(set2)|\n",
    "|set1.difference(set2)|set1.difference_update(set2)|\n",
    "|set1.symmetric_difference(set2)|set1.symmetric_difference_update(set2)|\n"
   ]
  },
  {
   "cell_type": "markdown",
   "metadata": {},
   "source": [
    "### Operaciones internas de sets\n",
    "\n",
    "También, los sets permiten operaciones internas como eliminar elementos, reemplazar elementos, etc."
   ]
  },
  {
   "cell_type": "code",
   "execution_count": null,
   "metadata": {},
   "outputs": [],
   "source": [
    "guerreros_z = {\"Gokú\",\"Vegueta\",\"Krilin\",\"Yamcha\",\"Ten Chin Han\",\"Pikoro\",\"Gohan\"}\n",
    "guerreros_z"
   ]
  },
  {
   "cell_type": "code",
   "execution_count": null,
   "metadata": {},
   "outputs": [],
   "source": [
    "# Añadir un elemento: set1.add(<objeto nuevo>)\n",
    "\n",
    "guerreros_z.add(\"Trunks\")\n",
    "guerreros_z"
   ]
  },
  {
   "cell_type": "markdown",
   "metadata": {},
   "source": [
    "Y si el elemento que queremos añadir ya existe, no hace nada nuevo"
   ]
  },
  {
   "cell_type": "code",
   "execution_count": null,
   "metadata": {},
   "outputs": [],
   "source": [
    "guerreros_z.add(\"Trunks\")\n",
    "guerreros_z"
   ]
  },
  {
   "cell_type": "markdown",
   "metadata": {},
   "source": [
    "También podemos quitar un elemento"
   ]
  },
  {
   "cell_type": "code",
   "execution_count": null,
   "metadata": {},
   "outputs": [],
   "source": [
    "# Quitar un elemento: set1.remove(<objeto a quitar>). Si no lo encuentra, enviará un error\n",
    "guerreros_z.remove(\"Yamcha\")\n",
    "guerreros_z"
   ]
  },
  {
   "cell_type": "code",
   "execution_count": null,
   "metadata": {},
   "outputs": [],
   "source": [
    "guerreros_z.remove(\"Yamcha\")\n",
    "guerreros_z"
   ]
  },
  {
   "cell_type": "markdown",
   "metadata": {},
   "source": [
    "Para evitar ese error, utilizamos un equivalente que lo busca y, si no lo encuentra, no hace nada."
   ]
  },
  {
   "cell_type": "code",
   "execution_count": null,
   "metadata": {},
   "outputs": [],
   "source": [
    "# Quitar un elemento y si no lo encuentra no marcar error: set1.discard(<objeto a quitar>)\n",
    "\n",
    "guerreros_z.discard(\"Ten Chin Han\")\n",
    "guerreros_z\n"
   ]
  },
  {
   "cell_type": "code",
   "execution_count": null,
   "metadata": {},
   "outputs": [],
   "source": [
    "guerreros_z.discard(\"Ten Chin Han\")\n",
    "guerreros_z"
   ]
  },
  {
   "cell_type": "markdown",
   "metadata": {},
   "source": [
    "### Comparación de sets\n",
    "\n",
    "Como hemos dicho antes, Python tiene una buena gama de opciones para tratar con conjuntos. Entre ellas, podemos comparar conjuntos entre sí."
   ]
  },
  {
   "cell_type": "code",
   "execution_count": null,
   "metadata": {},
   "outputs": [],
   "source": [
    "saijajines = {\"Gokú\",\"Vegueta\",\"Gohan\",\"Trunks\"}"
   ]
  },
  {
   "cell_type": "code",
   "execution_count": null,
   "metadata": {},
   "outputs": [],
   "source": [
    "# Son conjuntos disjuntos? set1.isdisjoint(set2)\n",
    "\n",
    "saijajines.isdisjoint(guerreros_z)"
   ]
  },
  {
   "cell_type": "code",
   "execution_count": null,
   "metadata": {},
   "outputs": [],
   "source": [
    "# Es el conjunto 1 un subconjunto del conjunto 2? set1.issubset(set2)\n",
    "\n",
    "saijajines.issubset(guerreros_z)"
   ]
  },
  {
   "cell_type": "markdown",
   "metadata": {},
   "source": [
    "Esta instrucción admite otra sintaxis \"natural\""
   ]
  },
  {
   "cell_type": "code",
   "execution_count": null,
   "metadata": {},
   "outputs": [],
   "source": [
    "# set1 < set2\n",
    "\n",
    "saijajines < guerreros_z"
   ]
  },
  {
   "cell_type": "code",
   "execution_count": null,
   "metadata": {},
   "outputs": [],
   "source": [
    "# Es el conjunto 1 un superconjunto del conjunto 1? set1.issuperset(set2)\n",
    "\n",
    "guerreros_z.issuperset(saijajines)"
   ]
  },
  {
   "cell_type": "code",
   "execution_count": null,
   "metadata": {},
   "outputs": [],
   "source": [
    "# Son el conjunto 1 y el conjunto 2 iguales? set1 == set2\n",
    "guerreros_z == saijajines"
   ]
  },
  {
   "cell_type": "markdown",
   "metadata": {},
   "source": [
    "## La clase counter()\n",
    "\n",
    "Se trata de una clase que nos permite contar cosas.\n",
    "\n",
    "``\n",
    "from collections import Counter\n",
    "``\n",
    "\n",
    "La función counter(ARGUMENTO) admite un argumento de tipo lista o tupla y devuelve un algo parecido a un diccionario, donde las claves son los elementos de ARGUMENTO y los valores son el número de veces que aparece en ARGUMENTO."
   ]
  },
  {
   "cell_type": "markdown",
   "metadata": {},
   "source": [
    "``lista = [\"a\",\"b\",\"a\",\"a\",\"b\",\"c\",\"a\"]\n",
    "resumen = counter(lista)\n",
    "print(resumen)``"
   ]
  },
  {
   "cell_type": "markdown",
   "metadata": {},
   "source": [
    " Al ser un objeto tan parecido a los diccionario, podemos acceder a sus elementos\n",
    " mediante las claves; en caso de no encontrar la clave, devuelve un 0.\n",
    "\n",
    "``\n",
    "resumen[\"a\"]\n",
    "resumen[\"d\"]``\n",
    "\n"
   ]
  },
  {
   "cell_type": "markdown",
   "metadata": {},
   "source": [
    "Podemos añandir claves a un counter directamente con NOMBRE.update(<nombre de la clave>)\n",
    "\n",
    "``resumen.update(\"d\")\n",
    "resumen``\n",
    "\n"
   ]
  },
  {
   "cell_type": "markdown",
   "metadata": {},
   "source": [
    "Incluso podemos añadir recuento al objeto counter con un diccionario\n",
    "\n",
    "``\n",
    "resumen.update({\"b\":5,\"e\":9})\n",
    "resumen\n",
    "resumen.update({\"b\":-5,\"e\":2})\n",
    "resumen\n",
    "``\n"
   ]
  },
  {
   "cell_type": "markdown",
   "metadata": {},
   "source": [
    "Podemos especificar además el recuento de un elemento\n",
    "\n",
    "``\n",
    "resumen[\"e\"] = 1\n",
    "resumen\n",
    "``"
   ]
  }
 ],
 "metadata": {
  "kernelspec": {
   "display_name": "Python 3",
   "language": "python",
   "name": "python3"
  },
  "language_info": {
   "codemirror_mode": {
    "name": "ipython",
    "version": 3
   },
   "file_extension": ".py",
   "mimetype": "text/x-python",
   "name": "python",
   "nbconvert_exporter": "python",
   "pygments_lexer": "ipython3",
   "version": "3.7.7"
  }
 },
 "nbformat": 4,
 "nbformat_minor": 4
}
